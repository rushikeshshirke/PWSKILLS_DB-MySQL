{
 "cells": [
  {
   "cell_type": "code",
   "execution_count": 1,
   "id": "af595828-8fa9-452a-9cb4-c85891b8c7ea",
   "metadata": {},
   "outputs": [],
   "source": [
    "# Q1.\n",
    "\n",
    "# SQL databases are relational, and NoSQL databases are non-relational.\n",
    "# SQL databases use structured query language (SQL) and have a predefined schema. \n",
    "# NoSQL databases have dynamic schemas for unstructured data.\n",
    "# SQL databases are vertically scalable, while NoSQL databases are horizontally scalable.\n",
    "# SQL databases are table-based, while NoSQL databases are document, key-value, graph, or wide-column stores.\n",
    "# SQL databases are better for multi-row transactions, \n",
    "# while NoSQL is better for unstructured data like documents or JSON."
   ]
  },
  {
   "cell_type": "code",
   "execution_count": 2,
   "id": "f41108d0-6d19-4a93-a033-c2482b2a393e",
   "metadata": {},
   "outputs": [],
   "source": [
    "# Q2.\n",
    "\n",
    "# The DDL Commands in Structured Query Language are used to create and modify the schema of the database and \n",
    "# its objects. The syntax of DDL commands is predefined for describing the data. \n",
    "\n",
    "# 1. Create :\n",
    "#     CREATE is a DDL command used to create databases, tables, triggers and other database objects.\n",
    "#     Syntax : CREATE DATABASE database_name;\n",
    "#     CREATE TABLE table_name    \n",
    "#     (  \n",
    "#     column_Name1 data_type ( size of the column ) ,    \n",
    "#     column_Name2 data_type ( size of the column) ,    \n",
    "#     column_Name3 data_type ( size of the column) ,    \n",
    "#     ...    \n",
    "#     column_NameN data_type ( size of the column )  \n",
    "#     ) ;   \n",
    "# 2. Drop : \n",
    "#     DROP is a DDL command used to delete/remove the database objects from the SQL database. We can easily remove \n",
    "#     the entire table, view, or index from the database using this DDL command.\n",
    "#     Syntax : \n",
    "#         DROP DATABASE Database_Name;  \n",
    "# 3. Alter :\n",
    "#     ALTER is a DDL command which changes or modifies the existing structure of the database, and it also changes \n",
    "#     the schema of database objects.\n",
    "#     Syntax : ALTER TABLE name_of_table ADD column_name column_definition; \n",
    "    \n",
    "# 4. Truncate :\n",
    "#     TRUNCATE is another DDL command which deletes or removes all the records from the table.\n",
    "#     Syntax : TRUNCATE TABLE Table_Name;  "
   ]
  },
  {
   "cell_type": "code",
   "execution_count": 3,
   "id": "c2933bf9-87c5-4010-a173-64ad625c0771",
   "metadata": {},
   "outputs": [],
   "source": [
    "# Q3.\n",
    "\n",
    "# DML is an abbreviation of Data Manipulation Language. The DML commands in Structured Query Language change the \n",
    "# data present in the SQL database. We can easily access, store, modify, update and delete the existing records \n",
    "# from the database using DML commands.\n",
    "\n",
    "# 1. Insert : \n",
    "#     Insert command is used to insert data into a table.\n",
    "#     Syntax : Insert into <table_name> (column list) values (column values);\n",
    "# 2. Update : \n",
    "#     Update command is used to update existing data within a table.\n",
    "#     Syntax : UPDATE <table_name> SET column_number =value_number WHERE condition;\n",
    "# 3. Delete :\n",
    "#     Delete command is used to delete records from a database table.\n",
    "#     Syntax :  Delete from <table_name>WHERE condition;"
   ]
  },
  {
   "cell_type": "code",
   "execution_count": 4,
   "id": "39d5a03e-5c45-4016-a189-16b09c1bc8d4",
   "metadata": {},
   "outputs": [],
   "source": [
    "# Q4.\n",
    "\n",
    "# DQL or Data Query Language is a portion of a SQL statement that allows you to get and organise data from\n",
    "# a database.\n",
    "\n",
    "# Select : \n",
    "#     The SELECT command is used in Data Query Language Command to select data.\n",
    "#     Syntax : SELECT column1, column2, ... , column n FROM table_name;"
   ]
  },
  {
   "cell_type": "code",
   "execution_count": 5,
   "id": "93d6f3dd-e37b-400f-838a-68f1b65296ac",
   "metadata": {},
   "outputs": [],
   "source": [
    "# Q5.\n",
    "\n",
    "# Primary Key :\n",
    "#     A primary key is used to ensure data in the specific column is unique. \n",
    "# Foreign Key :\n",
    "#     A foreign key is a column or group of columns in a relational database table that provides a link between \n",
    "#     data in two tables."
   ]
  },
  {
   "cell_type": "code",
   "execution_count": 6,
   "id": "c3938009-1694-48c3-b887-8704165720e1",
   "metadata": {},
   "outputs": [],
   "source": [
    "# Q6.\n",
    "\n",
    "# Python Code to connect MySQL to Python :\n",
    "    \n",
    "#     import mysql.connector\n",
    "    \n",
    "#     conn = mysql.connector.connect(\n",
    "#         host = 'localhost',\n",
    "#         user = 'root',\n",
    "#         password = 'admin'\n",
    "#     )\n",
    "    \n",
    "# Cursor() : \n",
    "#     The MySQLCursor of mysql-connector-python  is used to execute statements to communicate with the MySQL database.\n",
    "    \n",
    "# execute() :\n",
    "#     The execute() method is used to execute the query thrugh python."
   ]
  },
  {
   "cell_type": "code",
   "execution_count": null,
   "id": "53ce691f-e6f4-4973-ace1-4b5f401ba6f7",
   "metadata": {},
   "outputs": [],
   "source": [
    "# Q7.\n",
    "\n",
    "Order of execution of SQL queries :\n",
    "    FROM\n",
    "    "
   ]
  }
 ],
 "metadata": {
  "kernelspec": {
   "display_name": "Python 3 (ipykernel)",
   "language": "python",
   "name": "python3"
  },
  "language_info": {
   "codemirror_mode": {
    "name": "ipython",
    "version": 3
   },
   "file_extension": ".py",
   "mimetype": "text/x-python",
   "name": "python",
   "nbconvert_exporter": "python",
   "pygments_lexer": "ipython3",
   "version": "3.10.8"
  }
 },
 "nbformat": 4,
 "nbformat_minor": 5
}
